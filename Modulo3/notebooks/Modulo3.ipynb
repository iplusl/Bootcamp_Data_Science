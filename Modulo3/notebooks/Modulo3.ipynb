{
 "cells": [
  {
   "cell_type": "markdown",
   "id": "ccd31023",
   "metadata": {},
   "source": [
    "# Aula 01"
   ]
  },
  {
   "cell_type": "code",
   "execution_count": 1,
   "id": "091203f6",
   "metadata": {},
   "outputs": [],
   "source": [
    "url = \"../dados/dados_covid_sp.zip\""
   ]
  },
  {
   "cell_type": "code",
   "execution_count": 2,
   "id": "e943cfa6",
   "metadata": {},
   "outputs": [],
   "source": [
    "import pandas as pd"
   ]
  },
  {
   "cell_type": "code",
   "execution_count": 3,
   "id": "03f38633",
   "metadata": {},
   "outputs": [],
   "source": [
    "dados = pd.read_csv(url, sep=\";\")"
   ]
  },
  {
   "cell_type": "code",
   "execution_count": 4,
   "id": "cf110c0b",
   "metadata": {},
   "outputs": [
    {
     "data": {
      "text/html": [
       "<div>\n",
       "<style scoped>\n",
       "    .dataframe tbody tr th:only-of-type {\n",
       "        vertical-align: middle;\n",
       "    }\n",
       "\n",
       "    .dataframe tbody tr th {\n",
       "        vertical-align: top;\n",
       "    }\n",
       "\n",
       "    .dataframe thead th {\n",
       "        text-align: right;\n",
       "    }\n",
       "</style>\n",
       "<table border=\"1\" class=\"dataframe\">\n",
       "  <thead>\n",
       "    <tr style=\"text-align: right;\">\n",
       "      <th></th>\n",
       "      <th>nome_munic</th>\n",
       "      <th>codigo_ibge</th>\n",
       "      <th>dia</th>\n",
       "      <th>mes</th>\n",
       "      <th>datahora</th>\n",
       "      <th>casos</th>\n",
       "      <th>casos_novos</th>\n",
       "      <th>casos_pc</th>\n",
       "      <th>casos_mm7d</th>\n",
       "      <th>obitos</th>\n",
       "      <th>...</th>\n",
       "      <th>nome_drs</th>\n",
       "      <th>cod_drs</th>\n",
       "      <th>pop</th>\n",
       "      <th>pop_60</th>\n",
       "      <th>area</th>\n",
       "      <th>map_leg</th>\n",
       "      <th>map_leg_s</th>\n",
       "      <th>latitude</th>\n",
       "      <th>longitude</th>\n",
       "      <th>semana_epidem</th>\n",
       "    </tr>\n",
       "  </thead>\n",
       "  <tbody>\n",
       "    <tr>\n",
       "      <th>0</th>\n",
       "      <td>Adamantina</td>\n",
       "      <td>3500105</td>\n",
       "      <td>25</td>\n",
       "      <td>2</td>\n",
       "      <td>2020-02-25</td>\n",
       "      <td>0</td>\n",
       "      <td>0</td>\n",
       "      <td>0,000000e+00</td>\n",
       "      <td>0,0000000</td>\n",
       "      <td>0</td>\n",
       "      <td>...</td>\n",
       "      <td>Marília</td>\n",
       "      <td>5</td>\n",
       "      <td>33894</td>\n",
       "      <td>7398</td>\n",
       "      <td>41199</td>\n",
       "      <td>0</td>\n",
       "      <td>8.0</td>\n",
       "      <td>-21,6820</td>\n",
       "      <td>-51,0737</td>\n",
       "      <td>9</td>\n",
       "    </tr>\n",
       "    <tr>\n",
       "      <th>1</th>\n",
       "      <td>Adolfo</td>\n",
       "      <td>3500204</td>\n",
       "      <td>25</td>\n",
       "      <td>2</td>\n",
       "      <td>2020-02-25</td>\n",
       "      <td>0</td>\n",
       "      <td>0</td>\n",
       "      <td>0,000000e+00</td>\n",
       "      <td>0,0000000</td>\n",
       "      <td>0</td>\n",
       "      <td>...</td>\n",
       "      <td>São José do Rio Preto</td>\n",
       "      <td>15</td>\n",
       "      <td>3447</td>\n",
       "      <td>761</td>\n",
       "      <td>21106</td>\n",
       "      <td>0</td>\n",
       "      <td>8.0</td>\n",
       "      <td>-21,2325</td>\n",
       "      <td>-49,6451</td>\n",
       "      <td>9</td>\n",
       "    </tr>\n",
       "    <tr>\n",
       "      <th>2</th>\n",
       "      <td>Aguaí</td>\n",
       "      <td>3500303</td>\n",
       "      <td>25</td>\n",
       "      <td>2</td>\n",
       "      <td>2020-02-25</td>\n",
       "      <td>0</td>\n",
       "      <td>0</td>\n",
       "      <td>0,000000e+00</td>\n",
       "      <td>0,0000000</td>\n",
       "      <td>0</td>\n",
       "      <td>...</td>\n",
       "      <td>São João da Boa Vista</td>\n",
       "      <td>14</td>\n",
       "      <td>35608</td>\n",
       "      <td>5245</td>\n",
       "      <td>47455</td>\n",
       "      <td>0</td>\n",
       "      <td>8.0</td>\n",
       "      <td>-22,0572</td>\n",
       "      <td>-46,9735</td>\n",
       "      <td>9</td>\n",
       "    </tr>\n",
       "    <tr>\n",
       "      <th>3</th>\n",
       "      <td>Águas da Prata</td>\n",
       "      <td>3500402</td>\n",
       "      <td>25</td>\n",
       "      <td>2</td>\n",
       "      <td>2020-02-25</td>\n",
       "      <td>0</td>\n",
       "      <td>0</td>\n",
       "      <td>0,000000e+00</td>\n",
       "      <td>0,0000000</td>\n",
       "      <td>0</td>\n",
       "      <td>...</td>\n",
       "      <td>São João da Boa Vista</td>\n",
       "      <td>14</td>\n",
       "      <td>7797</td>\n",
       "      <td>1729</td>\n",
       "      <td>14267</td>\n",
       "      <td>0</td>\n",
       "      <td>8.0</td>\n",
       "      <td>-21,9319</td>\n",
       "      <td>-46,7176</td>\n",
       "      <td>9</td>\n",
       "    </tr>\n",
       "    <tr>\n",
       "      <th>4</th>\n",
       "      <td>Águas de Lindóia</td>\n",
       "      <td>3500501</td>\n",
       "      <td>25</td>\n",
       "      <td>2</td>\n",
       "      <td>2020-02-25</td>\n",
       "      <td>0</td>\n",
       "      <td>0</td>\n",
       "      <td>0,000000e+00</td>\n",
       "      <td>0,0000000</td>\n",
       "      <td>0</td>\n",
       "      <td>...</td>\n",
       "      <td>Campinas</td>\n",
       "      <td>3</td>\n",
       "      <td>18374</td>\n",
       "      <td>3275</td>\n",
       "      <td>6013</td>\n",
       "      <td>0</td>\n",
       "      <td>8.0</td>\n",
       "      <td>-22,4733</td>\n",
       "      <td>-46,6314</td>\n",
       "      <td>9</td>\n",
       "    </tr>\n",
       "  </tbody>\n",
       "</table>\n",
       "<p>5 rows × 26 columns</p>\n",
       "</div>"
      ],
      "text/plain": [
       "         nome_munic  codigo_ibge  dia  mes    datahora  casos  casos_novos  \\\n",
       "0        Adamantina      3500105   25    2  2020-02-25      0            0   \n",
       "1            Adolfo      3500204   25    2  2020-02-25      0            0   \n",
       "2             Aguaí      3500303   25    2  2020-02-25      0            0   \n",
       "3    Águas da Prata      3500402   25    2  2020-02-25      0            0   \n",
       "4  Águas de Lindóia      3500501   25    2  2020-02-25      0            0   \n",
       "\n",
       "       casos_pc    casos_mm7d  obitos  ...               nome_drs cod_drs  \\\n",
       "0  0,000000e+00     0,0000000       0  ...                Marília       5   \n",
       "1  0,000000e+00     0,0000000       0  ...  São José do Rio Preto      15   \n",
       "2  0,000000e+00     0,0000000       0  ...  São João da Boa Vista      14   \n",
       "3  0,000000e+00     0,0000000       0  ...  São João da Boa Vista      14   \n",
       "4  0,000000e+00     0,0000000       0  ...               Campinas       3   \n",
       "\n",
       "     pop pop_60   area  map_leg map_leg_s  latitude  longitude  semana_epidem  \n",
       "0  33894   7398  41199        0       8.0  -21,6820   -51,0737              9  \n",
       "1   3447    761  21106        0       8.0  -21,2325   -49,6451              9  \n",
       "2  35608   5245  47455        0       8.0  -22,0572   -46,9735              9  \n",
       "3   7797   1729  14267        0       8.0  -21,9319   -46,7176              9  \n",
       "4  18374   3275   6013        0       8.0  -22,4733   -46,6314              9  \n",
       "\n",
       "[5 rows x 26 columns]"
      ]
     },
     "execution_count": 4,
     "metadata": {},
     "output_type": "execute_result"
    }
   ],
   "source": [
    "dados.head()"
   ]
  },
  {
   "cell_type": "code",
   "execution_count": 5,
   "id": "c65a4d02",
   "metadata": {},
   "outputs": [],
   "source": [
    "dados[\"datahora\"] = pd.to_datetime(dados[\"datahora\"], format=\"%Y-%m-%d\")"
   ]
  },
  {
   "cell_type": "code",
   "execution_count": 6,
   "id": "a96fecb4",
   "metadata": {},
   "outputs": [],
   "source": [
    "import matplotlib as mpl"
   ]
  },
  {
   "cell_type": "code",
   "execution_count": 7,
   "id": "d0915bdd",
   "metadata": {},
   "outputs": [],
   "source": [
    "mpl.rcParams[\"font.size\"] = 18\n",
    "mpl.rcParams[\"figure.figsize\"] = (15,8)"
   ]
  },
  {
   "cell_type": "code",
   "execution_count": 8,
   "id": "13d4de9c",
   "metadata": {},
   "outputs": [],
   "source": [
    "import seaborn as sns"
   ]
  },
  {
   "cell_type": "code",
   "execution_count": 9,
   "id": "f29de713",
   "metadata": {},
   "outputs": [
    {
     "data": {
      "text/plain": [
       "<AxesSubplot:xlabel='datahora', ylabel='casos'>"
      ]
     },
     "execution_count": 9,
     "metadata": {},
     "output_type": "execute_result"
    },
    {
     "data": {
      "image/png": "[encoded data removed]",
      "text/plain": [
       "<Figure size 432x288 with 1 Axes>"
      ]
     },
     "metadata": {
      "needs_background": "light"
     },
     "output_type": "display_data"
    }
   ],
   "source": [
    "sns.lineplot(x=\"datahora\", y=\"casos\", data=dados)"
   ]
  },
  {
   "cell_type": "markdown",
   "id": "dd172a13",
   "metadata": {},
   "source": [
    "$$ e^x $$"
   ]
  },
  {
   "cell_type": "code",
   "execution_count": 10,
   "id": "6651ae25",
   "metadata": {},
   "outputs": [],
   "source": [
    "import numpy as np"
   ]
  },
  {
   "cell_type": "code",
   "execution_count": 11,
   "id": "f32be6b8",
   "metadata": {},
   "outputs": [],
   "source": [
    "eixo_x = np.linspace(-2,2,100)"
   ]
  },
  {
   "cell_type": "code",
   "execution_count": 12,
   "id": "5de6ac8c",
   "metadata": {},
   "outputs": [],
   "source": [
    "y_exp = np.exp(eixo_x)"
   ]
  },
  {
   "cell_type": "code",
   "execution_count": 13,
   "id": "92130240",
   "metadata": {},
   "outputs": [
    {
     "data": {
      "text/plain": [
       "<AxesSubplot:>"
      ]
     },
     "execution_count": 13,
     "metadata": {},
     "output_type": "execute_result"
    },
    {
     "data": {
      "image/png": "[encoded data removed]",
      "text/plain": [
       "<Figure size 432x288 with 1 Axes>"
      ]
     },
     "metadata": {
      "needs_background": "light"
     },
     "output_type": "display_data"
    }
   ],
   "source": [
    "sns.lineplot(x=eixo_x, y=y_exp)"
   ]
  },
  {
   "cell_type": "markdown",
   "id": "5be46136",
   "metadata": {},
   "source": [
    "$$ log_2 2 = 1 $$\n",
    "$$ log_2 2^x = x $$\n",
    "$$ log_e e^x = x $$"
   ]
  },
  {
   "cell_type": "code",
   "execution_count": 14,
   "id": "3f155077",
   "metadata": {},
   "outputs": [
    {
     "data": {
      "image/png": "[encoded data removed]",
      "text/plain": [
       "<Figure size 432x288 with 1 Axes>"
      ]
     },
     "metadata": {
      "needs_background": "light"
     },
     "output_type": "display_data"
    }
   ],
   "source": [
    "sns.lineplot(x=eixo_x, y=y_exp)\n",
    "mpl.pyplot.yscale(\"log\")"
   ]
  },
  {
   "cell_type": "code",
   "execution_count": 15,
   "id": "09631edf",
   "metadata": {},
   "outputs": [],
   "source": [
    "dados_sp = dados.query(\"nome_munic == 'São Paulo'\")"
   ]
  },
  {
   "cell_type": "code",
   "execution_count": 16,
   "id": "fd5a8b9b",
   "metadata": {},
   "outputs": [
    {
     "data": {
      "image/png": "[encoded data removed]",
      "text/plain": [
       "<Figure size 432x288 with 1 Axes>"
      ]
     },
     "metadata": {
      "needs_background": "light"
     },
     "output_type": "display_data"
    }
   ],
   "source": [
    "sns.lineplot(x=\"datahora\", y=\"casos\", data=dados_sp)\n",
    "mpl.pyplot.yscale(\"log\")"
   ]
  },
  {
   "cell_type": "markdown",
   "id": "ae9336d4",
   "metadata": {},
   "source": [
    "## Desafio 01: Filtrar a base com alguma outra função."
   ]
  },
  {
   "cell_type": "code",
   "execution_count": 17,
   "id": "1e5ef831",
   "metadata": {},
   "outputs": [
    {
     "data": {
      "text/html": [
       "<div>\n",
       "<style scoped>\n",
       "    .dataframe tbody tr th:only-of-type {\n",
       "        vertical-align: middle;\n",
       "    }\n",
       "\n",
       "    .dataframe tbody tr th {\n",
       "        vertical-align: top;\n",
       "    }\n",
       "\n",
       "    .dataframe thead th {\n",
       "        text-align: right;\n",
       "    }\n",
       "</style>\n",
       "<table border=\"1\" class=\"dataframe\">\n",
       "  <thead>\n",
       "    <tr style=\"text-align: right;\">\n",
       "      <th></th>\n",
       "      <th>nome_munic</th>\n",
       "      <th>codigo_ibge</th>\n",
       "      <th>dia</th>\n",
       "      <th>mes</th>\n",
       "      <th>datahora</th>\n",
       "      <th>casos</th>\n",
       "      <th>casos_novos</th>\n",
       "      <th>casos_pc</th>\n",
       "      <th>casos_mm7d</th>\n",
       "      <th>obitos</th>\n",
       "      <th>...</th>\n",
       "      <th>nome_drs</th>\n",
       "      <th>cod_drs</th>\n",
       "      <th>pop</th>\n",
       "      <th>pop_60</th>\n",
       "      <th>area</th>\n",
       "      <th>map_leg</th>\n",
       "      <th>map_leg_s</th>\n",
       "      <th>latitude</th>\n",
       "      <th>longitude</th>\n",
       "      <th>semana_epidem</th>\n",
       "    </tr>\n",
       "  </thead>\n",
       "  <tbody>\n",
       "    <tr>\n",
       "      <th>562</th>\n",
       "      <td>São Paulo</td>\n",
       "      <td>3550308</td>\n",
       "      <td>25</td>\n",
       "      <td>2</td>\n",
       "      <td>2020-02-25</td>\n",
       "      <td>1</td>\n",
       "      <td>0</td>\n",
       "      <td>8,424841e-03</td>\n",
       "      <td>0,0000000</td>\n",
       "      <td>0</td>\n",
       "      <td>...</td>\n",
       "      <td>Grande São Paulo</td>\n",
       "      <td>10</td>\n",
       "      <td>11869660</td>\n",
       "      <td>1853286</td>\n",
       "      <td>152111</td>\n",
       "      <td>&lt;50</td>\n",
       "      <td>7.0</td>\n",
       "      <td>-23,5329</td>\n",
       "      <td>-46,6395</td>\n",
       "      <td>9</td>\n",
       "    </tr>\n",
       "    <tr>\n",
       "      <th>1207</th>\n",
       "      <td>São Paulo</td>\n",
       "      <td>3550308</td>\n",
       "      <td>26</td>\n",
       "      <td>2</td>\n",
       "      <td>2020-02-26</td>\n",
       "      <td>1</td>\n",
       "      <td>0</td>\n",
       "      <td>8,424841e-03</td>\n",
       "      <td>0,0000000</td>\n",
       "      <td>0</td>\n",
       "      <td>...</td>\n",
       "      <td>Grande São Paulo</td>\n",
       "      <td>10</td>\n",
       "      <td>11869660</td>\n",
       "      <td>1853286</td>\n",
       "      <td>152111</td>\n",
       "      <td>&lt;50</td>\n",
       "      <td>7.0</td>\n",
       "      <td>-23,5329</td>\n",
       "      <td>-46,6395</td>\n",
       "      <td>9</td>\n",
       "    </tr>\n",
       "    <tr>\n",
       "      <th>1852</th>\n",
       "      <td>São Paulo</td>\n",
       "      <td>3550308</td>\n",
       "      <td>27</td>\n",
       "      <td>2</td>\n",
       "      <td>2020-02-27</td>\n",
       "      <td>1</td>\n",
       "      <td>0</td>\n",
       "      <td>8,424841e-03</td>\n",
       "      <td>0,0000000</td>\n",
       "      <td>0</td>\n",
       "      <td>...</td>\n",
       "      <td>Grande São Paulo</td>\n",
       "      <td>10</td>\n",
       "      <td>11869660</td>\n",
       "      <td>1853286</td>\n",
       "      <td>152111</td>\n",
       "      <td>&lt;50</td>\n",
       "      <td>7.0</td>\n",
       "      <td>-23,5329</td>\n",
       "      <td>-46,6395</td>\n",
       "      <td>9</td>\n",
       "    </tr>\n",
       "    <tr>\n",
       "      <th>2497</th>\n",
       "      <td>São Paulo</td>\n",
       "      <td>3550308</td>\n",
       "      <td>28</td>\n",
       "      <td>2</td>\n",
       "      <td>2020-02-28</td>\n",
       "      <td>2</td>\n",
       "      <td>1</td>\n",
       "      <td>1,684968e-02</td>\n",
       "      <td>0,0000000</td>\n",
       "      <td>0</td>\n",
       "      <td>...</td>\n",
       "      <td>Grande São Paulo</td>\n",
       "      <td>10</td>\n",
       "      <td>11869660</td>\n",
       "      <td>1853286</td>\n",
       "      <td>152111</td>\n",
       "      <td>&lt;50</td>\n",
       "      <td>7.0</td>\n",
       "      <td>-23,5329</td>\n",
       "      <td>-46,6395</td>\n",
       "      <td>9</td>\n",
       "    </tr>\n",
       "    <tr>\n",
       "      <th>3142</th>\n",
       "      <td>São Paulo</td>\n",
       "      <td>3550308</td>\n",
       "      <td>29</td>\n",
       "      <td>2</td>\n",
       "      <td>2020-02-29</td>\n",
       "      <td>2</td>\n",
       "      <td>0</td>\n",
       "      <td>1,684968e-02</td>\n",
       "      <td>0,0000000</td>\n",
       "      <td>0</td>\n",
       "      <td>...</td>\n",
       "      <td>Grande São Paulo</td>\n",
       "      <td>10</td>\n",
       "      <td>11869660</td>\n",
       "      <td>1853286</td>\n",
       "      <td>152111</td>\n",
       "      <td>&lt;50</td>\n",
       "      <td>7.0</td>\n",
       "      <td>-23,5329</td>\n",
       "      <td>-46,6395</td>\n",
       "      <td>9</td>\n",
       "    </tr>\n",
       "  </tbody>\n",
       "</table>\n",
       "<p>5 rows × 26 columns</p>\n",
       "</div>"
      ],
      "text/plain": [
       "     nome_munic  codigo_ibge  dia  mes   datahora  casos  casos_novos  \\\n",
       "562   São Paulo      3550308   25    2 2020-02-25      1            0   \n",
       "1207  São Paulo      3550308   26    2 2020-02-26      1            0   \n",
       "1852  São Paulo      3550308   27    2 2020-02-27      1            0   \n",
       "2497  São Paulo      3550308   28    2 2020-02-28      2            1   \n",
       "3142  São Paulo      3550308   29    2 2020-02-29      2            0   \n",
       "\n",
       "          casos_pc    casos_mm7d  obitos  ...          nome_drs cod_drs  \\\n",
       "562   8,424841e-03     0,0000000       0  ...  Grande São Paulo      10   \n",
       "1207  8,424841e-03     0,0000000       0  ...  Grande São Paulo      10   \n",
       "1852  8,424841e-03     0,0000000       0  ...  Grande São Paulo      10   \n",
       "2497  1,684968e-02     0,0000000       0  ...  Grande São Paulo      10   \n",
       "3142  1,684968e-02     0,0000000       0  ...  Grande São Paulo      10   \n",
       "\n",
       "           pop   pop_60    area  map_leg map_leg_s  latitude  longitude  \\\n",
       "562   11869660  1853286  152111      <50       7.0  -23,5329   -46,6395   \n",
       "1207  11869660  1853286  152111      <50       7.0  -23,5329   -46,6395   \n",
       "1852  11869660  1853286  152111      <50       7.0  -23,5329   -46,6395   \n",
       "2497  11869660  1853286  152111      <50       7.0  -23,5329   -46,6395   \n",
       "3142  11869660  1853286  152111      <50       7.0  -23,5329   -46,6395   \n",
       "\n",
       "      semana_epidem  \n",
       "562               9  \n",
       "1207              9  \n",
       "1852              9  \n",
       "2497              9  \n",
       "3142              9  \n",
       "\n",
       "[5 rows x 26 columns]"
      ]
     },
     "execution_count": 17,
     "metadata": {},
     "output_type": "execute_result"
    }
   ],
   "source": [
    "dados.loc[dados[\"nome_munic\"] == \"São Paulo\"].head()"
   ]
  },
  {
   "cell_type": "markdown",
   "id": "0eac3de3",
   "metadata": {},
   "source": [
    "## Desafio 02: Escolher outro município para fazer a análise."
   ]
  },
  {
   "cell_type": "code",
   "execution_count": 18,
   "id": "bff63da7",
   "metadata": {},
   "outputs": [],
   "source": [
    "dados_sbc = dados.loc[dados[\"nome_munic\"] == \"São Bernardo do Campo\"]"
   ]
  },
  {
   "cell_type": "code",
   "execution_count": 19,
   "id": "895edd5d",
   "metadata": {},
   "outputs": [
    {
     "data": {
      "text/plain": [
       "<AxesSubplot:xlabel='datahora', ylabel='casos'>"
      ]
     },
     "execution_count": 19,
     "metadata": {},
     "output_type": "execute_result"
    },
    {
     "data": {
      "image/png": "[encoded data removed]",
      "text/plain": [
       "<Figure size 432x288 with 1 Axes>"
      ]
     },
     "metadata": {
      "needs_background": "light"
     },
     "output_type": "display_data"
    }
   ],
   "source": [
    "sns.lineplot(x=\"datahora\", y=\"casos\", data=dados_sbc)"
   ]
  },
  {
   "cell_type": "markdown",
   "id": "0c808646",
   "metadata": {},
   "source": [
    "A cidade de São Bernardo do Campo tem uma curva bem parecida com a de São Paulo."
   ]
  },
  {
   "cell_type": "code",
   "execution_count": 20,
   "id": "9f145b24",
   "metadata": {},
   "outputs": [
    {
     "data": {
      "image/png": "[encoded data removed]",
      "text/plain": [
       "<Figure size 432x288 with 1 Axes>"
      ]
     },
     "metadata": {
      "needs_background": "light"
     },
     "output_type": "display_data"
    }
   ],
   "source": [
    "sns.lineplot(x=\"datahora\", y=\"casos\", data=dados_sbc)\n",
    "mpl.pyplot.yscale(\"log\")"
   ]
  },
  {
   "cell_type": "markdown",
   "id": "9dd58ed6",
   "metadata": {},
   "source": [
    "O comportamento da curva na escala logarítmica também é parecido com o da cidade de São Paulo, ficando perceptível um crescimento alto no início e suavizando chegando mais perto de uma reta horizontal no final."
   ]
  },
  {
   "cell_type": "code",
   "execution_count": 21,
   "id": "b48e9ada",
   "metadata": {},
   "outputs": [
    {
     "data": {
      "text/plain": [
       "<AxesSubplot:xlabel='datahora', ylabel='casos_novos'>"
      ]
     },
     "execution_count": 21,
     "metadata": {},
     "output_type": "execute_result"
    },
    {
     "data": {
      "image/png": "[encoded data removed]",
      "text/plain": [
       "<Figure size 432x288 with 1 Axes>"
      ]
     },
     "metadata": {
      "needs_background": "light"
     },
     "output_type": "display_data"
    }
   ],
   "source": [
    "sns.lineplot(x=\"datahora\", y=\"casos_novos\", data=dados_sp)"
   ]
  },
  {
   "cell_type": "code",
   "execution_count": null,
   "id": "2eedce55",
   "metadata": {},
   "outputs": [],
   "source": []
  }
 ],
 "metadata": {
  "kernelspec": {
   "display_name": "Python 3",
   "language": "python",
   "name": "python3"
  },
  "language_info": {
   "codemirror_mode": {
    "name": "ipython",
    "version": 3
   },
   "file_extension": ".py",
   "mimetype": "text/x-python",
   "name": "python",
   "nbconvert_exporter": "python",
   "pygments_lexer": "ipython3",
   "version": "3.8.8"
  }
 },
 "nbformat": 4,
 "nbformat_minor": 5
}
